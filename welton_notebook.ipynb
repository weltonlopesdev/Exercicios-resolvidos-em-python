{
  "nbformat": 4,
  "nbformat_minor": 0,
  "metadata": {
    "colab": {
      "provenance": [],
      "authorship_tag": "ABX9TyMgrots6r/nT5P1ZrQ52a9L",
      "include_colab_link": true
    },
    "kernelspec": {
      "name": "python3",
      "display_name": "Python 3"
    },
    "language_info": {
      "name": "python"
    }
  },
  "cells": [
    {
      "cell_type": "markdown",
      "metadata": {
        "id": "view-in-github",
        "colab_type": "text"
      },
      "source": [
        "<a href=\"https://colab.research.google.com/github/weltonlopesdev/Exercicios-resolvidos-em-python/blob/main/welton_notebook.ipynb\" target=\"_parent\"><img src=\"https://colab.research.google.com/assets/colab-badge.svg\" alt=\"Open In Colab\"/></a>"
      ]
    },
    {
      "cell_type": "code",
      "execution_count": 15,
      "metadata": {
        "id": "u594SrjBEPkk",
        "colab": {
          "base_uri": "https://localhost:8080/"
        },
        "outputId": "a5ed725c-0b9e-4627-b439-9be974a4a9df"
      },
      "outputs": [
        {
          "output_type": "stream",
          "name": "stdout",
          "text": [
            "Entre com o dado da velocidade10\n",
            "o valor da velocidade em KM/h é 36.0\n"
          ]
        }
      ],
      "source": [
        "#Fazer programa que converte a velocidade de m/s para km/h. Dado: velocidade(m/s) = velocidade(km/h) * 3.6\n",
        "\n",
        "ms = 0\n",
        "km = 3.6\n",
        "\n",
        "ms = float(input('Entre com o dado da velocidade'))\n",
        "calc_vel = ms * km\n",
        "print('o valor da velocidade em KM/h é', +calc_vel)"
      ]
    }
  ]
}