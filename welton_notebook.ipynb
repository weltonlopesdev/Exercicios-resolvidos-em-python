{
  "nbformat": 4,
  "nbformat_minor": 0,
  "metadata": {
    "colab": {
      "provenance": [],
      "authorship_tag": "ABX9TyO0C1xSn/abx5or9M/E+gVY",
      "include_colab_link": true
    },
    "kernelspec": {
      "name": "python3",
      "display_name": "Python 3"
    },
    "language_info": {
      "name": "python"
    }
  },
  "cells": [
    {
      "cell_type": "markdown",
      "metadata": {
        "id": "view-in-github",
        "colab_type": "text"
      },
      "source": [
        "<a href=\"https://colab.research.google.com/github/weltonlopesdev/Exercicios-resolvidos-em-python/blob/main/welton_notebook.ipynb\" target=\"_parent\"><img src=\"https://colab.research.google.com/assets/colab-badge.svg\" alt=\"Open In Colab\"/></a>"
      ]
    },
    {
      "cell_type": "code",
      "execution_count": 18,
      "metadata": {
        "id": "u594SrjBEPkk",
        "colab": {
          "base_uri": "https://localhost:8080/"
        },
        "outputId": "bc8dedbb-2fa6-49d2-9b02-6825cec0ff30"
      },
      "outputs": [
        {
          "output_type": "stream",
          "name": "stdout",
          "text": [
            "Digite o valor da velocidade que deseja converter em KM/h10\n",
            "O valor da velocidade, convertida em KM/h é 36.0\n"
          ]
        }
      ],
      "source": [
        "#Fazer programa que converte a velocidade de m/s para km/h. Dado: velocidade(m/s) = velocidade(km/h) * 3.6\n",
        "\n",
        "ms = 0\n",
        "km = 0\n",
        "\n",
        "ms = float(input('Digite o valor da velocidade que deseja converter em KM/h'))\n",
        "\n",
        "v = ms * 3.6\n",
        "\n",
        "print('O valor da velocidade, convertida em KM/h é', +v)"
      ]
    },
    {
      "cell_type": "code",
      "source": [
        "#Fazer um programa em que o usuário digita o raio de uma circunferência e o programa imprime na tela o seu comprimento.\n",
        "\n",
        "raio = 0\n",
        "\n",
        "raio = int(input('Entre com o valor do raio em que deseja transformar em comprimento'))\n",
        "\n",
        "c = 2 * 3.14 * raio\n",
        "\n",
        "print('O valor do raio em comprimento é', +c)"
      ],
      "metadata": {
        "colab": {
          "base_uri": "https://localhost:8080/"
        },
        "id": "2DqWYJHjh7Yo",
        "outputId": "1fd69803-bda0-45a7-a756-a2e8b51a8be0"
      },
      "execution_count": 19,
      "outputs": [
        {
          "output_type": "stream",
          "name": "stdout",
          "text": [
            "Entre com o valor do raio em que deseja transformar em comprimento26\n",
            "O valor do raio em comprimento é 163.28\n"
          ]
        }
      ]
    }
  ]
}