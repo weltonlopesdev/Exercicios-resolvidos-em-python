{
  "cells": [
    {
      "cell_type": "markdown",
      "metadata": {
        "id": "view-in-github",
        "colab_type": "text"
      },
      "source": [
        "<a href=\"https://colab.research.google.com/github/weltonlopesdev/Exercicios-resolvidos-em-python/blob/main/welton_notebook.ipynb\" target=\"_parent\"><img src=\"https://colab.research.google.com/assets/colab-badge.svg\" alt=\"Open In Colab\"/></a>"
      ]
    },
    {
      "cell_type": "code",
      "execution_count": null,
      "metadata": {
        "colab": {
          "base_uri": "https://localhost:8080/"
        },
        "id": "u594SrjBEPkk",
        "outputId": "bc8dedbb-2fa6-49d2-9b02-6825cec0ff30"
      },
      "outputs": [
        {
          "name": "stdout",
          "output_type": "stream",
          "text": [
            "Digite o valor da velocidade que deseja converter em KM/h10\n",
            "O valor da velocidade, convertida em KM/h é 36.0\n"
          ]
        }
      ],
      "source": [
        "#Fazer programa que converte a velocidade de m/s para km/h. Dado: velocidade(m/s) = velocidade(km/h) * 3.6\n",
        "\n",
        "ms = 0\n",
        "km = 0\n",
        "\n",
        "ms = float(input('Digite o valor da velocidade que deseja converter em KM/h'))\n",
        "\n",
        "v = ms * 3.6\n",
        "\n",
        "print('O valor da velocidade, convertida em KM/h é', +v)"
      ]
    },
    {
      "cell_type": "code",
      "execution_count": null,
      "metadata": {
        "colab": {
          "base_uri": "https://localhost:8080/"
        },
        "id": "2DqWYJHjh7Yo",
        "outputId": "1fd69803-bda0-45a7-a756-a2e8b51a8be0"
      },
      "outputs": [
        {
          "name": "stdout",
          "output_type": "stream",
          "text": [
            "Entre com o valor do raio em que deseja transformar em comprimento26\n",
            "O valor do raio em comprimento é 163.28\n"
          ]
        }
      ],
      "source": [
        "#Fazer um programa em que o usuário digita o raio de uma circunferência e o programa imprime na tela o seu comprimento.\n",
        "\n",
        "raio = 0\n",
        "\n",
        "raio = int(input('Entre com o valor do raio em que deseja transformar em comprimento'))\n",
        "\n",
        "c = 2 * 3.14 * raio\n",
        "\n",
        "print('O valor do raio em comprimento é', +c)"
      ]
    },
    {
      "cell_type": "code",
      "execution_count": null,
      "metadata": {
        "colab": {
          "base_uri": "https://localhost:8080/"
        },
        "id": "JAdYmtm7rRyt",
        "outputId": "3e7cca2c-fcd9-41bb-e242-30001a76337f"
      },
      "outputs": [
        {
          "name": "stdout",
          "output_type": "stream",
          "text": [
            "Digite um numero10\n",
            "seu numero é 10\n",
            "seu antecessor 9\n"
          ]
        }
      ],
      "source": [
        "#Fazer um programa em que o usuário entra com um número e o programa imprime na tela seu antecessor e seu sucessor.\n",
        "\n",
        "num = int(input('Digite um numero'))\n",
        "print('seu numero é', +num)\n",
        "ant_num = num - 1\n",
        "print('seu antecessor', +ant_num)"
      ]
    },
    {
      "cell_type": "code",
      "execution_count": null,
      "metadata": {
        "colab": {
          "base_uri": "https://localhost:8080/"
        },
        "id": "C12fI0VMvoj2",
        "outputId": "292fb364-c0f8-4748-a220-ba3efa659954"
      },
      "outputs": [
        {
          "name": "stdout",
          "output_type": "stream",
          "text": [
            "Digite o ano de seu nascimento2000\n",
            "Você tem 23 anos\n"
          ]
        }
      ],
      "source": [
        "#Fazer um programa em que o usuário entra com o ano de seu nascimento e o programa imprime na tela ssua idade.\n",
        "\n",
        "ano_atual = 2023\n",
        "ano_nasc = int(input('Digite o ano de seu nascimento'))\n",
        "\n",
        "result = ano_atual - ano_nasc\n",
        "\n",
        "print('Você tem', +result, 'anos')\n",
        "\n",
        "\n",
        "\n",
        "\n"
      ]
    },
    {
      "cell_type": "code",
      "execution_count": null,
      "metadata": {
        "colab": {
          "base_uri": "https://localhost:8080/"
        },
        "id": "iyfk_t-3GKo2",
        "outputId": "3d4c0163-696a-497f-9a32-67afff9f18e7"
      },
      "outputs": [
        {
          "name": "stdout",
          "output_type": "stream",
          "text": [
            "Digite o primeiro numero20\n",
            "Digite o segundo numero2\n",
            "O numero maior é  20\n"
          ]
        }
      ],
      "source": [
        "#Escreva um programa que recebe 2 valores e devolve o maior entre eles.\n",
        "\n",
        "num1 = int(input('Digite o primeiro numero'))\n",
        "num2 = int(input('Digite o segundo numero'))\n",
        "\n",
        "if num1 > num2:\n",
        "  print('O numero maior é ', +num1)\n",
        "if num2 > num1:\n",
        "  print('O numero maior é ', +num2)"
      ]
    },
    {
      "cell_type": "code",
      "execution_count": null,
      "metadata": {
        "colab": {
          "base_uri": "https://localhost:8080/"
        },
        "id": "i2it2WCdIrns",
        "outputId": "e12b1ffb-0ca5-49df-a22b-14a626c5b6ad"
      },
      "outputs": [
        {
          "name": "stdout",
          "output_type": "stream",
          "text": [
            "digite a quantidade de laranjas que deseja comprar e informaremos o preço em R$89\n",
            "O valor a ser pago pelas 89 é: R$ 22.25\n"
          ]
        }
      ],
      "source": [
        "#CALCULAR: Cada laranja custa R$ 0,3, mais quando comprada + de 1 duzia seu valor cai para 0,25 cada \n",
        "\n",
        "qtd_laranja = int(input('digite a quantidade de laranjas que deseja comprar e informaremos o preço em R$'))\n",
        "\n",
        "if qtd_laranja > 12:\n",
        "  preco_laranja_desc = qtd_laranja * 0.25\n",
        "  print('O valor a ser pago pelas', +qtd_laranja, 'é:', 'R$', +preco_laranja_desc)\n",
        "else:\n",
        "  preco_laranja_normal = qtd_laranja * 0.30\n",
        "  print('O valor a ser pago pelas', +qtd_laranja, 'é:', 'R$', +preco_laranja_normal)"
      ]
    },
    {
      "cell_type": "code",
      "execution_count": 12,
      "metadata": {
        "colab": {
          "base_uri": "https://localhost:8080/"
        },
        "id": "RvYMijzzMFtF",
        "outputId": "1e3776d1-0f1f-48b9-9dfd-c8eab35d5810"
      },
      "outputs": [
        {
          "output_type": "stream",
          "name": "stdout",
          "text": [
            "Digite a sua altura1.60\n",
            "digite seu peso52\n",
            "Você está abaixo do peso para sua altura\n"
          ]
        }
      ],
      "source": [
        "#Fazer uma calculadora em que o usuário digita Altura em metros e Peso em quilos.\n",
        "# O programa devolve ao usuário a informação qual seu peso ideal. \n",
        "\n",
        "# com altura de 1,60 m, o peso ideal 52 kg a 64 kg.\n",
        "# com altura de 1,70 m, o peso ideal 65 kg a 72 kg.\n",
        "# com altura de 1,80 m, o peso ideal 72 kg a 82 kg.\n",
        "# com altura de 1,90 m, o peso ideal 82 kg a 92 kg.\n",
        "\n",
        "\n",
        "altura = float(input('Digite a sua altura'))\n",
        "peso = int(input('digite seu peso'))\n",
        "\n",
        "if altura == 1.60 and peso <=52:\n",
        "  print('Você está abaixo do peso para sua altura')\n",
        "if altura == 1.60 and peso >52 and peso <=64:\n",
        "  print('Você está no peso ideal para sua altura')\n",
        "\n",
        "if altura == 1.70 and peso >65 and peso <=71:\n",
        "  print('Você está no peso ideal para sua altura')\n",
        "\n",
        "if altura == 1.80 and peso >72 and peso <=81:\n",
        "  print('Você está no peso ideal para sua altura')\n",
        "\n",
        "if altura == 1.90 and peso >82 and peso <=92:\n",
        "  print('Você está no peso ideal para sua altura')\n",
        "\n",
        "if altura > 1.90 and peso > 92:\n",
        "  print('Não temos dados para saber se o peso está de acordo com a altura')\n",
        "\n"
      ]
    },
    {
      "cell_type": "code",
      "source": [
        "#Para determinar se 3 segmentos de reta formam um triângulo, podemos fazer a verificação se a soma dos dois menores segmentos é maior do que o segmento maior.\n",
        "\n",
        "#Segmentos: 2, 3 e 4\n",
        "#Soma dos dois menores: 2 + 3 = 5\n",
        "#Verificação: 5 > 4\n",
        "#Conclusão:Estes segmentos formam um triângulo\n",
        "\n",
        "\n",
        "seg1 = int(input('digite os valorer do segmento 1 :' ))\n",
        "seg2 = int(input('digite os valorer do segmento 2 :' ))\n",
        "seg3 = int(input('digite os valorer do segmento 3 :' ))\n",
        "\n",
        "if seg1 + seg2 > seg3 and seg1 + seg3 > seg2 and seg2 + seg3 > seg1:\n",
        "  print('Estes segmentes formam um triangulo')\n",
        "else:\n",
        "  print('não forma um triangulo')\n",
        "  \n",
        "\n",
        "\n",
        "\n",
        "\n",
        "\n"
      ],
      "metadata": {
        "colab": {
          "base_uri": "https://localhost:8080/"
        },
        "id": "zpUQEyLemBbE",
        "outputId": "06f344dd-f35e-472c-c26c-7fcb903e5fbb"
      },
      "execution_count": 2,
      "outputs": [
        {
          "output_type": "stream",
          "name": "stdout",
          "text": [
            "digite os valorer do segmento 1 :1\n",
            "digite os valorer do segmento 2 :0\n",
            "digite os valorer do segmento 3 :0\n",
            "não forma um triangulo\n"
          ]
        }
      ]
    }
  ],
  "metadata": {
    "colab": {
      "provenance": [],
      "authorship_tag": "ABX9TyOprsHteVZ3BBNRZjxM3gW0",
      "include_colab_link": true
    },
    "kernelspec": {
      "display_name": "Python 3",
      "name": "python3"
    },
    "language_info": {
      "name": "python"
    }
  },
  "nbformat": 4,
  "nbformat_minor": 0
}