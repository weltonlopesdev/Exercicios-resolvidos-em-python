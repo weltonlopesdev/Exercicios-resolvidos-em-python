{
  "nbformat": 4,
  "nbformat_minor": 0,
  "metadata": {
    "colab": {
      "provenance": [],
      "authorship_tag": "ABX9TyP7Y25yzCndo0YwDgyPh1qp",
      "include_colab_link": true
    },
    "kernelspec": {
      "name": "python3",
      "display_name": "Python 3"
    },
    "language_info": {
      "name": "python"
    }
  },
  "cells": [
    {
      "cell_type": "markdown",
      "metadata": {
        "id": "view-in-github",
        "colab_type": "text"
      },
      "source": [
        "<a href=\"https://colab.research.google.com/github/weltonlopesdev/Exercicios-resolvidos-em-python/blob/main/welton_notebook.ipynb\" target=\"_parent\"><img src=\"https://colab.research.google.com/assets/colab-badge.svg\" alt=\"Open In Colab\"/></a>"
      ]
    },
    {
      "cell_type": "code",
      "execution_count": 16,
      "metadata": {
        "id": "u594SrjBEPkk",
        "colab": {
          "base_uri": "https://localhost:8080/"
        },
        "outputId": "bf84d6cd-dac2-4bcc-d33d-91d2fd39373b"
      },
      "outputs": [
        {
          "output_type": "stream",
          "name": "stdout",
          "text": [
            "Entre com o valor do raio em que deseja transformar em comprimento30\n",
            "O valor do raio em comprimento é 188.4\n"
          ]
        }
      ],
      "source": [
        "#Fazer um programa em que o usuário digita o raio de uma circunferência e o programa imprime na tela o seu comprimento.\n",
        "\n",
        "raio = 0\n",
        "\n",
        "raio = int(input('Entre com o valor do raio em que deseja transformar em comprimento'))\n",
        "\n",
        "c = 2 * 3.14 * raio\n",
        "\n",
        "print('O valor do raio em comprimento é', +c)"
      ]
    }
  ]
}