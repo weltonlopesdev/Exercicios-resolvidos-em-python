{
  "nbformat": 4,
  "nbformat_minor": 0,
  "metadata": {
    "colab": {
      "provenance": [],
      "authorship_tag": "ABX9TyNe9bzRqHe0g8733V2de5u+",
      "include_colab_link": true
    },
    "kernelspec": {
      "name": "python3",
      "display_name": "Python 3"
    },
    "language_info": {
      "name": "python"
    }
  },
  "cells": [
    {
      "cell_type": "markdown",
      "metadata": {
        "id": "view-in-github",
        "colab_type": "text"
      },
      "source": [
        "<a href=\"https://colab.research.google.com/github/weltonlopesdev/Exercicios-resolvidos-em-python/blob/main/welton_notebook.ipynb\" target=\"_parent\"><img src=\"https://colab.research.google.com/assets/colab-badge.svg\" alt=\"Open In Colab\"/></a>"
      ]
    },
    {
      "cell_type": "code",
      "execution_count": 18,
      "metadata": {
        "id": "u594SrjBEPkk",
        "colab": {
          "base_uri": "https://localhost:8080/"
        },
        "outputId": "bc8dedbb-2fa6-49d2-9b02-6825cec0ff30"
      },
      "outputs": [
        {
          "output_type": "stream",
          "name": "stdout",
          "text": [
            "Digite o valor da velocidade que deseja converter em KM/h10\n",
            "O valor da velocidade, convertida em KM/h é 36.0\n"
          ]
        }
      ],
      "source": [
        "#Fazer programa que converte a velocidade de m/s para km/h. Dado: velocidade(m/s) = velocidade(km/h) * 3.6\n",
        "\n",
        "ms = 0\n",
        "km = 0\n",
        "\n",
        "ms = float(input('Digite o valor da velocidade que deseja converter em KM/h'))\n",
        "\n",
        "v = ms * 3.6\n",
        "\n",
        "print('O valor da velocidade, convertida em KM/h é', +v)"
      ]
    },
    {
      "cell_type": "code",
      "source": [
        "#Fazer um programa em que o usuário digita o raio de uma circunferência e o programa imprime na tela o seu comprimento.\n",
        "\n",
        "raio = 0\n",
        "\n",
        "raio = int(input('Entre com o valor do raio em que deseja transformar em comprimento'))\n",
        "\n",
        "c = 2 * 3.14 * raio\n",
        "\n",
        "print('O valor do raio em comprimento é', +c)"
      ],
      "metadata": {
        "colab": {
          "base_uri": "https://localhost:8080/"
        },
        "id": "2DqWYJHjh7Yo",
        "outputId": "1fd69803-bda0-45a7-a756-a2e8b51a8be0"
      },
      "execution_count": 19,
      "outputs": [
        {
          "output_type": "stream",
          "name": "stdout",
          "text": [
            "Entre com o valor do raio em que deseja transformar em comprimento26\n",
            "O valor do raio em comprimento é 163.28\n"
          ]
        }
      ]
    },
    {
      "cell_type": "code",
      "source": [
        "#Fazer um programa em que o usuário entra com um número e o programa imprime na tela seu antecessor e seu sucessor.\n",
        "\n",
        "num = int(input('Digite um numero'))\n",
        "print('seu numero é', +num)\n",
        "ant_num = num - 1\n",
        "print('seu antecessor', +ant_num)"
      ],
      "metadata": {
        "colab": {
          "base_uri": "https://localhost:8080/"
        },
        "id": "JAdYmtm7rRyt",
        "outputId": "3e7cca2c-fcd9-41bb-e242-30001a76337f"
      },
      "execution_count": 1,
      "outputs": [
        {
          "output_type": "stream",
          "name": "stdout",
          "text": [
            "Digite um numero10\n",
            "seu numero é 10\n",
            "seu antecessor 9\n"
          ]
        }
      ]
    },
    {
      "cell_type": "code",
      "source": [
        "#Fazer um programa em que o usuário entra com o ano de seu nascimento e o programa imprime na tela ssua idade.\n",
        "\n",
        "ano_atual = 2023\n",
        "ano_nasc = int(input('Digite o ano de seu nascimento'))\n",
        "\n",
        "result = ano_atual - ano_nasc\n",
        "\n",
        "print('Você tem', +result, 'anos')\n",
        "\n",
        "\n",
        "\n",
        "\n"
      ],
      "metadata": {
        "colab": {
          "base_uri": "https://localhost:8080/"
        },
        "id": "C12fI0VMvoj2",
        "outputId": "292fb364-c0f8-4748-a220-ba3efa659954"
      },
      "execution_count": 5,
      "outputs": [
        {
          "output_type": "stream",
          "name": "stdout",
          "text": [
            "Digite o ano de seu nascimento2000\n",
            "Você tem 23 anos\n"
          ]
        }
      ]
    },
    {
      "cell_type": "code",
      "source": [
        "#Escreva um programa que recebe 2 valores e devolve o maior entre eles.\n",
        "\n",
        "num1 = int(input('Digite o primeiro numero'))\n",
        "num2 = int(input('Digite o segundo numero'))\n",
        "\n",
        "if num1 > num2:\n",
        "  print('O numero maior é ', +num1)\n",
        "if num2 > num1:\n",
        "  print('O numero maior é ', +num2)"
      ],
      "metadata": {
        "colab": {
          "base_uri": "https://localhost:8080/"
        },
        "id": "iyfk_t-3GKo2",
        "outputId": "3d4c0163-696a-497f-9a32-67afff9f18e7"
      },
      "execution_count": 2,
      "outputs": [
        {
          "output_type": "stream",
          "name": "stdout",
          "text": [
            "Digite o primeiro numero20\n",
            "Digite o segundo numero2\n",
            "O numero maior é  20\n"
          ]
        }
      ]
    },
    {
      "cell_type": "code",
      "source": [
        "#CALCULAR: Cada laranja custa R$ 0,3, mais quando comprada + de 1 duzia seu valor cai para 0,25 cada \n",
        "\n",
        "qtd_laranja = int(input('digite a quantidade de laranjas que deseja comprar e informaremos o preço em R$'))\n",
        "\n",
        "if qtd_laranja > 12:\n",
        "  preco_laranja_desc = qtd_laranja * 0.25\n",
        "  print('O valor a ser pago pelas', +qtd_laranja, 'é:', 'R$', +preco_laranja_desc)\n",
        "else:\n",
        "  preco_laranja_normal = qtd_laranja * 0.30\n",
        "  print('O valor a ser pago pelas', +qtd_laranja, 'é:', 'R$', +preco_laranja_normal)"
      ],
      "metadata": {
        "colab": {
          "base_uri": "https://localhost:8080/"
        },
        "id": "i2it2WCdIrns",
        "outputId": "e12b1ffb-0ca5-49df-a22b-14a626c5b6ad"
      },
      "execution_count": 7,
      "outputs": [
        {
          "output_type": "stream",
          "name": "stdout",
          "text": [
            "digite a quantidade de laranjas que deseja comprar e informaremos o preço em R$89\n",
            "O valor a ser pago pelas 89 é: R$ 22.25\n"
          ]
        }
      ]
    }
  ]
}