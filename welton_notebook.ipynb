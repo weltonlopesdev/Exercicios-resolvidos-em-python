{
  "cells": [
    {
      "cell_type": "markdown",
      "metadata": {
        "id": "view-in-github",
        "colab_type": "text"
      },
      "source": [
        "<a href=\"https://colab.research.google.com/github/weltonlopesdev/Exercicios-resolvidos-em-python/blob/main/welton_notebook.ipynb\" target=\"_parent\"><img src=\"https://colab.research.google.com/assets/colab-badge.svg\" alt=\"Open In Colab\"/></a>"
      ]
    },
    {
      "cell_type": "code",
      "execution_count": null,
      "metadata": {
        "colab": {
          "base_uri": "https://localhost:8080/"
        },
        "id": "u594SrjBEPkk",
        "outputId": "bc8dedbb-2fa6-49d2-9b02-6825cec0ff30"
      },
      "outputs": [
        {
          "name": "stdout",
          "output_type": "stream",
          "text": [
            "Digite o valor da velocidade que deseja converter em KM/h10\n",
            "O valor da velocidade, convertida em KM/h é 36.0\n"
          ]
        }
      ],
      "source": [
        "#Fazer programa que converte a velocidade de m/s para km/h. Dado: velocidade(m/s) = velocidade(km/h) * 3.6\n",
        "\n",
        "ms = 0\n",
        "km = 0\n",
        "\n",
        "ms = float(input('Digite o valor da velocidade que deseja converter em KM/h'))\n",
        "\n",
        "v = ms * 3.6\n",
        "\n",
        "print('O valor da velocidade, convertida em KM/h é', +v)"
      ]
    },
    {
      "cell_type": "code",
      "execution_count": null,
      "metadata": {
        "colab": {
          "base_uri": "https://localhost:8080/"
        },
        "id": "2DqWYJHjh7Yo",
        "outputId": "1fd69803-bda0-45a7-a756-a2e8b51a8be0"
      },
      "outputs": [
        {
          "name": "stdout",
          "output_type": "stream",
          "text": [
            "Entre com o valor do raio em que deseja transformar em comprimento26\n",
            "O valor do raio em comprimento é 163.28\n"
          ]
        }
      ],
      "source": [
        "#Fazer um programa em que o usuário digita o raio de uma circunferência e o programa imprime na tela o seu comprimento.\n",
        "\n",
        "raio = 0\n",
        "\n",
        "raio = int(input('Entre com o valor do raio em que deseja transformar em comprimento'))\n",
        "\n",
        "c = 2 * 3.14 * raio\n",
        "\n",
        "print('O valor do raio em comprimento é', +c)"
      ]
    },
    {
      "cell_type": "code",
      "execution_count": null,
      "metadata": {
        "colab": {
          "base_uri": "https://localhost:8080/"
        },
        "id": "JAdYmtm7rRyt",
        "outputId": "3e7cca2c-fcd9-41bb-e242-30001a76337f"
      },
      "outputs": [
        {
          "name": "stdout",
          "output_type": "stream",
          "text": [
            "Digite um numero10\n",
            "seu numero é 10\n",
            "seu antecessor 9\n"
          ]
        }
      ],
      "source": [
        "#Fazer um programa em que o usuário entra com um número e o programa imprime na tela seu antecessor e seu sucessor.\n",
        "\n",
        "num = int(input('Digite um numero'))\n",
        "print('seu numero é', +num)\n",
        "ant_num = num - 1\n",
        "print('seu antecessor', +ant_num)"
      ]
    },
    {
      "cell_type": "code",
      "execution_count": null,
      "metadata": {
        "colab": {
          "base_uri": "https://localhost:8080/"
        },
        "id": "C12fI0VMvoj2",
        "outputId": "292fb364-c0f8-4748-a220-ba3efa659954"
      },
      "outputs": [
        {
          "name": "stdout",
          "output_type": "stream",
          "text": [
            "Digite o ano de seu nascimento2000\n",
            "Você tem 23 anos\n"
          ]
        }
      ],
      "source": [
        "#Fazer um programa em que o usuário entra com o ano de seu nascimento e o programa imprime na tela ssua idade.\n",
        "\n",
        "ano_atual = 2023\n",
        "ano_nasc = int(input('Digite o ano de seu nascimento'))\n",
        "\n",
        "result = ano_atual - ano_nasc\n",
        "\n",
        "print('Você tem', +result, 'anos')\n",
        "\n",
        "\n",
        "\n",
        "\n"
      ]
    },
    {
      "cell_type": "code",
      "execution_count": null,
      "metadata": {
        "colab": {
          "base_uri": "https://localhost:8080/"
        },
        "id": "iyfk_t-3GKo2",
        "outputId": "3d4c0163-696a-497f-9a32-67afff9f18e7"
      },
      "outputs": [
        {
          "name": "stdout",
          "output_type": "stream",
          "text": [
            "Digite o primeiro numero20\n",
            "Digite o segundo numero2\n",
            "O numero maior é  20\n"
          ]
        }
      ],
      "source": [
        "#Escreva um programa que recebe 2 valores e devolve o maior entre eles.\n",
        "\n",
        "num1 = int(input('Digite o primeiro numero'))\n",
        "num2 = int(input('Digite o segundo numero'))\n",
        "\n",
        "if num1 > num2:\n",
        "  print('O numero maior é ', +num1)\n",
        "if num2 > num1:\n",
        "  print('O numero maior é ', +num2)"
      ]
    },
    {
      "cell_type": "code",
      "execution_count": null,
      "metadata": {
        "colab": {
          "base_uri": "https://localhost:8080/"
        },
        "id": "i2it2WCdIrns",
        "outputId": "e12b1ffb-0ca5-49df-a22b-14a626c5b6ad"
      },
      "outputs": [
        {
          "name": "stdout",
          "output_type": "stream",
          "text": [
            "digite a quantidade de laranjas que deseja comprar e informaremos o preço em R$89\n",
            "O valor a ser pago pelas 89 é: R$ 22.25\n"
          ]
        }
      ],
      "source": [
        "#CALCULAR: Cada laranja custa R$ 0,3, mais quando comprada + de 1 duzia seu valor cai para 0,25 cada \n",
        "\n",
        "qtd_laranja = int(input('digite a quantidade de laranjas que deseja comprar e informaremos o preço em R$'))\n",
        "\n",
        "if qtd_laranja > 12:\n",
        "  preco_laranja_desc = qtd_laranja * 0.25\n",
        "  print('O valor a ser pago pelas', +qtd_laranja, 'é:', 'R$', +preco_laranja_desc)\n",
        "else:\n",
        "  preco_laranja_normal = qtd_laranja * 0.30\n",
        "  print('O valor a ser pago pelas', +qtd_laranja, 'é:', 'R$', +preco_laranja_normal)"
      ]
    },
    {
      "cell_type": "code",
      "execution_count": null,
      "metadata": {
        "colab": {
          "base_uri": "https://localhost:8080/"
        },
        "id": "RvYMijzzMFtF",
        "outputId": "1e3776d1-0f1f-48b9-9dfd-c8eab35d5810"
      },
      "outputs": [
        {
          "output_type": "stream",
          "name": "stdout",
          "text": [
            "Digite a sua altura1.60\n",
            "digite seu peso52\n",
            "Você está abaixo do peso para sua altura\n"
          ]
        }
      ],
      "source": [
        "#Fazer uma calculadora em que o usuário digita Altura em metros e Peso em quilos.\n",
        "# O programa devolve ao usuário a informação qual seu peso ideal. \n",
        "\n",
        "# com altura de 1,60 m, o peso ideal 52 kg a 64 kg.\n",
        "# com altura de 1,70 m, o peso ideal 65 kg a 72 kg.\n",
        "# com altura de 1,80 m, o peso ideal 72 kg a 82 kg.\n",
        "# com altura de 1,90 m, o peso ideal 82 kg a 92 kg.\n",
        "\n",
        "\n",
        "altura = float(input('Digite a sua altura'))\n",
        "peso = int(input('digite seu peso'))\n",
        "\n",
        "if altura == 1.60 and peso <=52:\n",
        "  print('Você está abaixo do peso para sua altura')\n",
        "if altura == 1.60 and peso >52 and peso <=64:\n",
        "  print('Você está no peso ideal para sua altura')\n",
        "\n",
        "if altura == 1.70 and peso >65 and peso <=71:\n",
        "  print('Você está no peso ideal para sua altura')\n",
        "\n",
        "if altura == 1.80 and peso >72 and peso <=81:\n",
        "  print('Você está no peso ideal para sua altura')\n",
        "\n",
        "if altura == 1.90 and peso >82 and peso <=92:\n",
        "  print('Você está no peso ideal para sua altura')\n",
        "\n",
        "if altura > 1.90 and peso > 92:\n",
        "  print('Não temos dados para saber se o peso está de acordo com a altura')\n",
        "\n"
      ]
    },
    {
      "cell_type": "code",
      "source": [
        "#Para determinar se 3 segmentos de reta formam um triângulo, podemos fazer a verificação se a soma dos dois menores segmentos é maior do que o segmento maior.\n",
        "\n",
        "#Segmentos: 2, 3 e 4\n",
        "#Soma dos dois menores: 2 + 3 = 5\n",
        "#Verificação: 5 > 4\n",
        "#Conclusão:Estes segmentos formam um triângulo\n",
        "\n",
        "\n",
        "seg1 = int(input('digite os valorer do segmento 1 :' ))\n",
        "seg2 = int(input('digite os valorer do segmento 2 :' ))\n",
        "seg3 = int(input('digite os valorer do segmento 3 :' ))\n",
        "\n",
        "if seg1 + seg2 > seg3 and seg1 + seg3 > seg2 and seg2 + seg3 > seg1:\n",
        "  print('Estes segmentes formam um triangulo')\n",
        "else:\n",
        "  print('não forma um triangulo')\n",
        "  \n",
        "\n",
        "\n",
        "\n",
        "\n",
        "\n"
      ],
      "metadata": {
        "colab": {
          "base_uri": "https://localhost:8080/"
        },
        "id": "zpUQEyLemBbE",
        "outputId": "06f344dd-f35e-472c-c26c-7fcb903e5fbb"
      },
      "execution_count": null,
      "outputs": [
        {
          "output_type": "stream",
          "name": "stdout",
          "text": [
            "digite os valorer do segmento 1 :1\n",
            "digite os valorer do segmento 2 :0\n",
            "digite os valorer do segmento 3 :0\n",
            "não forma um triangulo\n"
          ]
        }
      ]
    },
    {
      "cell_type": "code",
      "source": [
        "#DESAFIO\n",
        "\n",
        "#Um posto de gasolina está vendendo combustíveis com a seguinte tabela de descontos: \n",
        "\n",
        "#Gasolina:\n",
        "#Até 20 litros: desconto de 4% por litro\n",
        "#Acima de 20 litros: desconto de 6% por litro\n",
        "\n",
        "#Álcool:\n",
        "#Até 20 litros: desconto de 3% por litro\n",
        "#Acima de 20 litros: desconto de 5% por litro\n",
        "\n",
        "#Escreva um programa que leia o tipo de combustível (A - Álcool e G - Gasolina), calcule e imprima o valor a ser pago pelo cliente.\n",
        "\n",
        "import random\n",
        "\n",
        "op = False\n",
        "esc = False\n",
        "\n",
        "print('Deseja abastecer com Gasolina ou Alcool? (g : para Gasolina e a: para Alcool):')\n",
        "v = input()\n",
        "\n",
        "if v != 'a' and v != 'g':\n",
        "  while esc == False:\n",
        "    print('Escreva corretamente, a ou g)')\n",
        "    v = input()\n",
        "    if v != 'a' or v != 'g':\n",
        "      esc = False\n",
        "    if v == 'a' or v == 'g':\n",
        "      esc = True\n",
        "      break\n",
        "\n",
        " #Quando escolhe a Gasolina \n",
        "if v == 'g':\n",
        "    x = list(range(1,53))\n",
        "    print(x)\n",
        "    print('Escolha um numero de 1 a 52 (obs: 1 equivale a 1 LITRO  :')\n",
        "    g = int(input())\n",
        "    while op == False:\n",
        "      if g >= 1 and g <= 20:\n",
        "        sem_desc = g * 5.51\n",
        "        desc = sem_desc * 0.04\n",
        "        com_desc = sem_desc - desc\n",
        "        op = True\n",
        "      if g > 21:\n",
        "        sem_desc = g * 5.51\n",
        "        desc = sem_desc * 0.06\n",
        "        com_desc = sem_desc - desc\n",
        "        op = True\n",
        "      if g < 1:\n",
        "        op = False\n",
        "        print('Digite um valor de 1 a 52, não sairá enquanto não digitar corretamente  :)')\n",
        "        g = int(input())\n",
        "    print(f\"Gasolina sem desconto: R${sem_desc:.2f}\")\n",
        "    print(f\"Desconto: R${desc:.2f}\")\n",
        "    print(f\"O valor a ser pago na Gasolina é R${com_desc:.2f}\")\n",
        "\n",
        "\n",
        " #Caso o cliente escolheu Alcool\n",
        "if v == 'a':\n",
        "    x = list(range(1,53))\n",
        "    print(x)\n",
        "    print('Escolha um numero de 1 a 52 (obs: 1 equivale a 1 LITRO  :')\n",
        "    a = int(input())\n",
        "    while op == False:\n",
        "      if a >= 1 and a <= 20:\n",
        "        sem_desc = a * 4.31\n",
        "        desc = sem_desc * 0.03\n",
        "        com_desc = sem_desc - desc\n",
        "        op = True\n",
        "      if a > 21:\n",
        "        sem_desc = g * 5.51\n",
        "        desc = sem_desc * 0.05\n",
        "        com_desc = sem_desc - desc\n",
        "        op = True\n",
        "      if a < 1:\n",
        "        op = False\n",
        "        print('Digite um valor de 1 a 52, não sairá enquanto não digitar corretamente  :)')\n",
        "    print(f\"Alcool sem desconto: R${sem_desc:.2f}\")\n",
        "    print(f\"Desconto: R${desc:.2f}\")\n",
        "    print(f\"O valor a ser pago no Alcool é R${com_desc:.2f}\")\n",
        "\n",
        "\n",
        "\n",
        "\n"
      ],
      "metadata": {
        "colab": {
          "base_uri": "https://localhost:8080/"
        },
        "id": "ExjeyrjQpfoS",
        "outputId": "ae308271-cc6e-4fc8-eac6-3330598d37f1"
      },
      "execution_count": null,
      "outputs": [
        {
          "output_type": "stream",
          "name": "stdout",
          "text": [
            "Deseja abastecer com Gasolina ou Alcool? (g : para Gasolina e a: para Alcool):\n",
            "a\n",
            "[1, 2, 3, 4, 5, 6, 7, 8, 9, 10, 11, 12, 13, 14, 15, 16, 17, 18, 19, 20, 21, 22, 23, 24, 25, 26, 27, 28, 29, 30, 31, 32, 33, 34, 35, 36, 37, 38, 39, 40, 41, 42, 43, 44, 45, 46, 47, 48, 49, 50, 51, 52]\n",
            "Escolha um numero de 1 a 52 (obs: 1 equivale a 1 LITRO  :\n",
            "57\n",
            "Alcool sem desconto: R$308.56\n",
            "Desconto: R$15.43\n",
            "O valor a ser pago no Alcool é R$293.13\n"
          ]
        }
      ]
    },
    {
      "cell_type": "code",
      "source": [
        "#Faça um programa que pergunte quanto vc ganha por hora e o numero de horas trabalhadas no mês, calcule e mostre o total do seu salario por mês\n",
        "#jornada mensal: 220 horas;\n",
        "\n",
        "print('Quanto você ganha por hora?')\n",
        "quantHoras = int(input())\n",
        "print('Quantas horas trabalhadas no mês?')\n",
        "quantHorasMes = int(input())\n",
        "salario = quantHoras * quantHorasMes\n",
        "\n",
        "print(f\"Vocês recebe este salário por MÊS :  R$ {salario:.2f}\")"
      ],
      "metadata": {
        "colab": {
          "base_uri": "https://localhost:8080/"
        },
        "id": "KrqkS66Hl6Hy",
        "outputId": "65f8c4d2-e4bf-4ccf-dd71-8bf299f658a4"
      },
      "execution_count": null,
      "outputs": [
        {
          "output_type": "stream",
          "name": "stdout",
          "text": [
            "Quanto você ganha por hora?\n",
            "20\n",
            "Quantas horas trabalhadas no mês?\n",
            "220\n",
            "Vocês recebe este salário por MÊS :  R$ 4400.00\n"
          ]
        }
      ]
    },
    {
      "cell_type": "code",
      "source": [
        "# LISTAS EM PYTHON\n",
        "#retorne a quantidade de itens da lista\n",
        "\n",
        "l = [1,2,3,4,5]\n",
        "len(l)"
      ],
      "metadata": {
        "colab": {
          "base_uri": "https://localhost:8080/"
        },
        "id": "inj-t6btmm0u",
        "outputId": "90ee8722-0c41-4e42-e009-94b953755c23"
      },
      "execution_count": null,
      "outputs": [
        {
          "output_type": "execute_result",
          "data": {
            "text/plain": [
              "5"
            ]
          },
          "metadata": {},
          "execution_count": 6
        }
      ]
    },
    {
      "cell_type": "code",
      "source": [
        "#retorne o menor valor da lista\n",
        "a = [1,2,3,4,5]\n",
        "min(a)"
      ],
      "metadata": {
        "colab": {
          "base_uri": "https://localhost:8080/"
        },
        "id": "tjQXuXI0n6Sm",
        "outputId": "7f504659-bd24-41c5-f11a-5a6197b0d4bb"
      },
      "execution_count": null,
      "outputs": [
        {
          "output_type": "execute_result",
          "data": {
            "text/plain": [
              "1"
            ]
          },
          "metadata": {},
          "execution_count": 7
        }
      ]
    },
    {
      "cell_type": "code",
      "source": [
        "#retorne o maior valor da lista\n",
        "b = [1,2,3,4,5]\n",
        "max(b)"
      ],
      "metadata": {
        "colab": {
          "base_uri": "https://localhost:8080/"
        },
        "id": "pLnkwl2MoK7A",
        "outputId": "9aa88f8d-0ca5-49d0-ba94-17a4763f6edd"
      },
      "execution_count": null,
      "outputs": [
        {
          "output_type": "execute_result",
          "data": {
            "text/plain": [
              "5"
            ]
          },
          "metadata": {},
          "execution_count": 8
        }
      ]
    },
    {
      "cell_type": "code",
      "source": [
        "#soma todos os valores da lista\n",
        "s = [1,2,3,4,5]\n",
        "sum(s)"
      ],
      "metadata": {
        "colab": {
          "base_uri": "https://localhost:8080/"
        },
        "id": "KS5Jky8Yog-u",
        "outputId": "26f1739c-b484-42f1-9863-ecc7583af97f"
      },
      "execution_count": null,
      "outputs": [
        {
          "output_type": "execute_result",
          "data": {
            "text/plain": [
              "15"
            ]
          },
          "metadata": {},
          "execution_count": 9
        }
      ]
    },
    {
      "cell_type": "code",
      "source": [
        "#adiciona novo valor da lista\n",
        "s = [1,2,3,4,5]\n",
        "s.append(100)\n",
        "print(s)"
      ],
      "metadata": {
        "colab": {
          "base_uri": "https://localhost:8080/"
        },
        "id": "mtqI9MWmosYe",
        "outputId": "05a2f5e1-e6d9-4849-c2b5-5c6d1b55a3ca"
      },
      "execution_count": null,
      "outputs": [
        {
          "output_type": "stream",
          "name": "stdout",
          "text": [
            "[1, 2, 3, 4, 5, 100]\n"
          ]
        }
      ]
    },
    {
      "cell_type": "code",
      "source": [
        "#insere uma lista no final de outra lista\n",
        "s = [1,2,3,4,5]\n",
        "print(s)\n",
        "s.extend([6,7,8])\n",
        "print(s)"
      ],
      "metadata": {
        "colab": {
          "base_uri": "https://localhost:8080/"
        },
        "id": "rwdW_SiKqBXL",
        "outputId": "54dca305-21a2-4005-ad01-4a2a5d888e44"
      },
      "execution_count": null,
      "outputs": [
        {
          "output_type": "stream",
          "name": "stdout",
          "text": [
            "[1, 2, 3, 4, 5]\n",
            "[1, 2, 3, 4, 5, 6, 7, 8]\n"
          ]
        }
      ]
    },
    {
      "cell_type": "code",
      "source": [
        "#remove um elemento da lista\n",
        "\n",
        "n = [1,2,3,4,5]\n",
        "del n[2]\n",
        "print(b)"
      ],
      "metadata": {
        "colab": {
          "base_uri": "https://localhost:8080/"
        },
        "id": "p_7uQVIgrK7X",
        "outputId": "090ccd5d-7d40-4dc0-e841-45d7ce37277e"
      },
      "execution_count": null,
      "outputs": [
        {
          "output_type": "stream",
          "name": "stdout",
          "text": [
            "[1, 3, 4, 5]\n"
          ]
        }
      ]
    },
    {
      "cell_type": "code",
      "source": [
        "#verifica se um valor pertence à lista\n",
        "v = [1,2,3,4,5]\n",
        "\n",
        "3 in v\n"
      ],
      "metadata": {
        "colab": {
          "base_uri": "https://localhost:8080/"
        },
        "id": "uCOSelBasDAV",
        "outputId": "0348b28f-d23e-486c-db10-bdcf6543a4fd"
      },
      "execution_count": null,
      "outputs": [
        {
          "output_type": "execute_result",
          "data": {
            "text/plain": [
              "True"
            ]
          },
          "metadata": {},
          "execution_count": 19
        }
      ]
    },
    {
      "cell_type": "code",
      "source": [
        "#ordena em ordem crescente\n",
        "\n",
        "t = [6,7,89,0,-7]\n",
        "\n",
        "t.sort()\n",
        "print(t)"
      ],
      "metadata": {
        "colab": {
          "base_uri": "https://localhost:8080/"
        },
        "id": "cFQD4uNbsMYL",
        "outputId": "54506e72-87a3-489f-ce96-b6691bc40bef"
      },
      "execution_count": null,
      "outputs": [
        {
          "output_type": "stream",
          "name": "stdout",
          "text": [
            "[-7, 0, 6, 7, 89]\n"
          ]
        }
      ]
    },
    {
      "cell_type": "code",
      "source": [
        "#inverte os elementos de uma lista.\n",
        "\n",
        "g = [1,2,3,4,5]\n",
        "\n",
        "g.reverse()\n",
        "print(g)"
      ],
      "metadata": {
        "colab": {
          "base_uri": "https://localhost:8080/"
        },
        "id": "ieTl90YhsmUT",
        "outputId": "1b2a7826-fca5-4ce5-971c-2ea5fc257c62"
      },
      "execution_count": null,
      "outputs": [
        {
          "output_type": "stream",
          "name": "stdout",
          "text": [
            "[5, 4, 3, 2, 1]\n"
          ]
        }
      ]
    },
    {
      "cell_type": "code",
      "source": [
        "#Concatenação de 2 listas\n",
        "\n",
        "a = [0,1,2]\n",
        "b = [0,9,8,6,7]\n",
        "\n",
        "c = a + b\n",
        "print(c)"
      ],
      "metadata": {
        "colab": {
          "base_uri": "https://localhost:8080/"
        },
        "id": "4MRFqAMVs0mT",
        "outputId": "2e34b5b4-df35-43d7-b04e-70f6142892f0"
      },
      "execution_count": null,
      "outputs": [
        {
          "output_type": "stream",
          "name": "stdout",
          "text": [
            "[0, 1, 2, 0, 9, 8, 6, 7]\n"
          ]
        }
      ]
    },
    {
      "cell_type": "code",
      "source": [
        "#cria uma lista com n vezes os elementos da original\n",
        "\n",
        "m = [0,1,2]\n",
        "\n",
        "r = m * 10\n",
        "print(r)"
      ],
      "metadata": {
        "colab": {
          "base_uri": "https://localhost:8080/"
        },
        "id": "ZZBJBCPYtZa9",
        "outputId": "ccdf0ac0-6bf2-45b9-9261-6c7eb41344c3"
      },
      "execution_count": null,
      "outputs": [
        {
          "output_type": "stream",
          "name": "stdout",
          "text": [
            "[0, 1, 2, 0, 1, 2, 0, 1, 2, 0, 1, 2, 0, 1, 2, 0, 1, 2, 0, 1, 2, 0, 1, 2, 0, 1, 2, 0, 1, 2]\n"
          ]
        }
      ]
    },
    {
      "cell_type": "code",
      "source": [
        "#fatiamento de listas\n",
        "\n",
        "L = [3 , 'abacate' , 9.7 , [5 , 6 , 3] , \"Python\" , (3 , 'j')] \n",
        "\n",
        "j = L[1:3]\n",
        "print(j)\n",
        "o = L[1:4]\n",
        "print(o)\n",
        "e = L[1:5]\n",
        "print(e)\n"
      ],
      "metadata": {
        "colab": {
          "base_uri": "https://localhost:8080/"
        },
        "id": "pvwAmzZit5ZP",
        "outputId": "2fdf5eed-c0b1-4358-98c6-fb22435c65fa"
      },
      "execution_count": null,
      "outputs": [
        {
          "output_type": "stream",
          "name": "stdout",
          "text": [
            "['abacate', 9.7]\n",
            "['abacate', 9.7, [5, 6, 3]]\n",
            "['abacate', 9.7, [5, 6, 3], 'Python']\n"
          ]
        }
      ]
    },
    {
      "cell_type": "code",
      "source": [
        "#Criar lista com função range\n",
        "\n",
        "L1 = list(range(5))\n",
        "print(L1)"
      ],
      "metadata": {
        "colab": {
          "base_uri": "https://localhost:8080/"
        },
        "id": "VhoDjHjCvG52",
        "outputId": "b1e2bcb6-8f12-42cc-d345-0b6f5b848f58"
      },
      "execution_count": null,
      "outputs": [
        {
          "output_type": "stream",
          "name": "stdout",
          "text": [
            "[0, 1, 2, 3, 4]\n"
          ]
        }
      ]
    },
    {
      "cell_type": "code",
      "source": [
        "#Faça um programa que receba a temperatura média de cada mês do ano e armazene-as em uma lista.\n",
        "#Após isto, calcule a média anual das temperaturas e mostre todas as temperaturas acima da média anual, e em que mês elas ocorreram\n",
        "\n",
        "#(mostrar o mês por extenso: 1 – Janeiro, 2 – Fevereiro, . . . ).\n",
        "\n",
        "temp = []\n",
        "mes = ['Janeiro', 'Fevereiro', 'Março', 'Abril', 'Maio', 'Junho', 'Julho', 'Agosto', 'Setembro', 'Outubro', ' Novembro', 'Dezembro']\n",
        "\n",
        "print('Calcular a temperatura média de cada mês do ano')\n",
        "\n",
        "j = int(input(f\"Digite a temperatura do mês de : {mes[0]} :\"))\n",
        "temp.append(j)\n",
        "f = int(input(f\"Digite a temperatura do mês de : {mes[1]} :\"))\n",
        "temp.append(f)\n",
        "m = int(input(f\"Digite a temperatura do mês de : {mes[2]} :\"))\n",
        "temp.append(m)\n",
        "a = int(input(f\"Digite a temperatura do mês de : {mes[3]} :\"))\n",
        "temp.append(a)\n",
        "ma = int(input(f\"Digite a temperatura do mês de : {mes[4]} :\"))\n",
        "temp.append(ma)\n",
        "jun = int(input(f\"Digite a temperatura do mês de : {mes[5]} :\"))\n",
        "temp.append(jun)\n",
        "jul = int(input(f\"Digite a temperatura do mês de : {mes[6]} :\"))\n",
        "temp.append(jul)\n",
        "ag = int(input(f\"Digite a temperatura do mês de : {mes[7]} :\"))\n",
        "temp.append(ag)\n",
        "sete = int(input(f\"Digite a temperatura do mês de : {mes[8]} :\"))\n",
        "temp.append(sete)\n",
        "out = int(input(f\"Digite a temperatura do mês de : {mes[9]} :\"))\n",
        "temp.append(out)\n",
        "nov = int(input(f\"Digite a temperatura do mês de : {mes[10]} :\"))\n",
        "temp.append(nov)\n",
        "dez = int(input(f\"Digite a temperatura do mês de : {mes[11]} :\"))\n",
        "temp.append(dez)\n",
        "\n",
        "\n",
        "media = sum(temp) / len(temp) # calculado a média\n",
        "print(f\"A média anual das temperaturas é:{media:.2f}\")\n",
        "\n",
        "for i in temp:\n",
        "  if temp[i] > media:\n",
        "    temp_maior_media = temp[i]\n",
        "    for o in mes:\n",
        "      mes_maior_media = mes[i]\n",
        "    print(f\"Esta é a temperatura maior que a média anual : {temp_maior_media} Mes de :  {mes_maior_media}\")\n",
        "\n",
        "\n",
        "\n",
        "\n",
        "\n"
      ],
      "metadata": {
        "colab": {
          "base_uri": "https://localhost:8080/"
        },
        "id": "HnxEx-9swUWJ",
        "outputId": "abfe9ea5-2730-478c-c9d2-33266eb40626"
      },
      "execution_count": null,
      "outputs": [
        {
          "output_type": "stream",
          "name": "stdout",
          "text": [
            "Calcular a temperatura média de cada mês do ano\n",
            "Digite a temperatura do mês de : Janeiro :1\n",
            "Digite a temperatura do mês de : Fevereiro :2\n",
            "Digite a temperatura do mês de : Março :3\n",
            "Digite a temperatura do mês de : Abril :2\n",
            "Digite a temperatura do mês de : Maio :1\n",
            "Digite a temperatura do mês de : Junho :5\n",
            "Digite a temperatura do mês de : Julho :2\n",
            "Digite a temperatura do mês de : Agosto :1\n",
            "Digite a temperatura do mês de : Setembro :4\n",
            "Digite a temperatura do mês de : Outubro :5\n",
            "Digite a temperatura do mês de :  Novembro :2\n",
            "Digite a temperatura do mês de : Dezembro :4\n",
            "A média anual das temperaturas é:2.67\n",
            "Esta é a temperatura maior que a média anual : 3 Mes de :  Março\n",
            "Esta é a temperatura maior que a média anual : 3 Mes de :  Março\n",
            "Esta é a temperatura maior que a média anual : 5 Mes de :  Junho\n",
            "Esta é a temperatura maior que a média anual : 3 Mes de :  Março\n",
            "Esta é a temperatura maior que a média anual : 5 Mes de :  Junho\n",
            "Esta é a temperatura maior que a média anual : 3 Mes de :  Março\n"
          ]
        }
      ]
    },
    {
      "cell_type": "code",
      "source": [
        "#DICIONÁRIOS EM PYTHON\n",
        "#imprimindo \n",
        "precos = {'lapis': 5.5, 'borracha': 7.0, 'caneta': 6.5}\n",
        "print(precos)"
      ],
      "metadata": {
        "id": "B4wdY4KsHZA_",
        "colab": {
          "base_uri": "https://localhost:8080/"
        },
        "outputId": "7fe95d4e-8642-4d77-da13-a8ce545d7df5"
      },
      "execution_count": 1,
      "outputs": [
        {
          "output_type": "stream",
          "name": "stdout",
          "text": [
            "{'lapis': 5.5, 'borracha': 7.0, 'caneta': 6.5}\n"
          ]
        }
      ]
    },
    {
      "cell_type": "code",
      "source": [
        "#imprimindo apenas um trecho \n",
        "\n",
        "print(\"preco da borracha é:\", precos['borracha'])"
      ],
      "metadata": {
        "colab": {
          "base_uri": "https://localhost:8080/"
        },
        "id": "QMM-_m0VIxNr",
        "outputId": "79576a18-40be-42b9-838f-7b26c5648c4f"
      },
      "execution_count": 3,
      "outputs": [
        {
          "output_type": "stream",
          "name": "stdout",
          "text": [
            "preco da borracha é: 7.0\n"
          ]
        }
      ]
    },
    {
      "cell_type": "code",
      "source": [
        "#deletando um item do dicionário\n",
        "\n",
        "preco = {'lapis': 5.5, 'borracha': 7.0, 'caneta': 6.5}\n",
        "print(preco)\n",
        "del preco['caneta']\n",
        "print(preco)"
      ],
      "metadata": {
        "colab": {
          "base_uri": "https://localhost:8080/"
        },
        "id": "2-Gnwr4xKlp1",
        "outputId": "21171fe5-0174-4766-f652-1c2dfe1547af"
      },
      "execution_count": 4,
      "outputs": [
        {
          "output_type": "stream",
          "name": "stdout",
          "text": [
            "{'lapis': 5.5, 'borracha': 7.0, 'caneta': 6.5}\n",
            "{'lapis': 5.5, 'borracha': 7.0}\n"
          ]
        }
      ]
    },
    {
      "cell_type": "code",
      "source": [
        "#verificar se uma chave exste no dicionário\n",
        "\n",
        "'borracha' in preco"
      ],
      "metadata": {
        "colab": {
          "base_uri": "https://localhost:8080/"
        },
        "id": "oWdy68QOLNAH",
        "outputId": "b9832e9c-bacd-4ea7-bb7f-69a798e8a9e5"
      },
      "execution_count": 7,
      "outputs": [
        {
          "output_type": "execute_result",
          "data": {
            "text/plain": [
              "True"
            ]
          },
          "metadata": {},
          "execution_count": 7
        }
      ]
    },
    {
      "cell_type": "code",
      "source": [
        "#Obtém as chaves de um dicionário. \n",
        "\n",
        "preco.keys()\n"
      ],
      "metadata": {
        "colab": {
          "base_uri": "https://localhost:8080/"
        },
        "id": "yDUOT8K_LutZ",
        "outputId": "04abf867-b1cf-494d-cb85-ccaa6324c781"
      },
      "execution_count": 10,
      "outputs": [
        {
          "output_type": "execute_result",
          "data": {
            "text/plain": [
              "dict_keys(['lapis', 'borracha'])"
            ]
          },
          "metadata": {},
          "execution_count": 10
        }
      ]
    },
    {
      "cell_type": "code",
      "source": [
        "#Obtém as chaves de um dicionário. \n",
        "\n",
        "preco.values()"
      ],
      "metadata": {
        "colab": {
          "base_uri": "https://localhost:8080/"
        },
        "id": "RgyvvjiSNMLP",
        "outputId": "c5959c7f-efaa-4c5a-a326-1de51fe4bc6f"
      },
      "execution_count": 11,
      "outputs": [
        {
          "output_type": "execute_result",
          "data": {
            "text/plain": [
              "dict_values([5.5, 7.0])"
            ]
          },
          "metadata": {},
          "execution_count": 11
        }
      ]
    },
    {
      "cell_type": "code",
      "source": [
        "#SETS EM PYTHON\n",
        "#imprimindo um set\n",
        "\n",
        "numeros = [1,2,3,4,5,6,7]\n",
        "print(numeros)"
      ],
      "metadata": {
        "colab": {
          "base_uri": "https://localhost:8080/"
        },
        "id": "zAAKLNWoNpXU",
        "outputId": "d5969798-7228-4d53-84fb-eca981dc234a"
      },
      "execution_count": 12,
      "outputs": [
        {
          "output_type": "stream",
          "name": "stdout",
          "text": [
            "[1, 2, 3, 4, 5, 6, 7]\n"
          ]
        }
      ]
    },
    {
      "cell_type": "code",
      "source": [
        "#adicionando um set\n",
        "\n",
        "\n",
        "num = {1,2}\n",
        "print(num)\n",
        "mais_num = {3,4,5,6}\n",
        "num.update(mais_num)\n",
        "print(num)"
      ],
      "metadata": {
        "colab": {
          "base_uri": "https://localhost:8080/"
        },
        "id": "H6LveELPOwAf",
        "outputId": "1a413925-f245-46cc-86b2-5c2ac02166e7"
      },
      "execution_count": 16,
      "outputs": [
        {
          "output_type": "stream",
          "name": "stdout",
          "text": [
            "{1, 2}\n",
            "{1, 2, 3, 4, 5, 6}\n"
          ]
        }
      ]
    },
    {
      "cell_type": "code",
      "source": [
        "#TUPLAS\n",
        "#imprimindo uma tupla\n",
        "\n",
        "tp1 = (1,2,3,4,5)\n",
        "print(tp1)"
      ],
      "metadata": {
        "colab": {
          "base_uri": "https://localhost:8080/"
        },
        "id": "Jkf7rFV2vxMC",
        "outputId": "3c1a8019-201b-401d-bb80-f7d34d2cd3ef"
      },
      "execution_count": 17,
      "outputs": [
        {
          "output_type": "stream",
          "name": "stdout",
          "text": [
            "(1, 2, 3, 4, 5)\n"
          ]
        }
      ]
    },
    {
      "cell_type": "code",
      "source": [
        "#criando dicionários com tuplas\n",
        "\n",
        "d = {(0,1): 0, (1,2):1}\n",
        "# Cria dicionários com tuplas como chaves\n",
        "print(d)"
      ],
      "metadata": {
        "colab": {
          "base_uri": "https://localhost:8080/"
        },
        "id": "fUFHA99Ywloe",
        "outputId": "6d288f68-6fb0-4e52-e0b1-de88c71fec0e"
      },
      "execution_count": 20,
      "outputs": [
        {
          "output_type": "stream",
          "name": "stdout",
          "text": [
            "{(0, 1): 0, (1, 2): 1}\n"
          ]
        }
      ]
    },
    {
      "cell_type": "code",
      "source": [
        "#FUNÇÕES\n",
        "\n",
        "#inprimindo uma função\n",
        "\n",
        "def funcao():\n",
        "  print(\"Hello World\")\n",
        "\n",
        "funcao()\n",
        "funcao()\n",
        "funcao()\n",
        "funcao()"
      ],
      "metadata": {
        "colab": {
          "base_uri": "https://localhost:8080/"
        },
        "id": "wrRM8pM7xn4d",
        "outputId": "746c7f88-dab1-4085-ed76-3b6bc1331d01"
      },
      "execution_count": 21,
      "outputs": [
        {
          "output_type": "stream",
          "name": "stdout",
          "text": [
            "Hello World\n",
            "Hello World\n",
            "Hello World\n",
            "Hello World\n"
          ]
        }
      ]
    },
    {
      "cell_type": "code",
      "source": [
        "\n",
        "#imprimindo uma função com chamada com parametro\n",
        "\n",
        "def funcao2(msg):\n",
        "  print(msg)\n",
        "funcao2(\"Mensagem\")"
      ],
      "metadata": {
        "colab": {
          "base_uri": "https://localhost:8080/"
        },
        "id": "BXeIx3jq1KfI",
        "outputId": "2419c5f0-5102-4528-a91e-25cee1780203"
      },
      "execution_count": 26,
      "outputs": [
        {
          "output_type": "stream",
          "name": "stdout",
          "text": [
            "Mensagem\n"
          ]
        }
      ]
    },
    {
      "cell_type": "code",
      "source": [
        "\n",
        "#imprimindo uma função com chamada com 2 parametro\n",
        "\n",
        "def funcao3(msg, nome):\n",
        "  print(msg, nome)\n",
        "funcao3(\"olá\", \"teste\")\n",
        "funcao3(\"olá\", \"teste2\")\n",
        "funcao3(\"olá\", \"teste3\")"
      ],
      "metadata": {
        "colab": {
          "base_uri": "https://localhost:8080/"
        },
        "id": "4sk_nkLf3t6F",
        "outputId": "14eb8216-cc4e-406b-cb6c-22ce9669f3e8"
      },
      "execution_count": 29,
      "outputs": [
        {
          "output_type": "stream",
          "name": "stdout",
          "text": [
            "olá teste\n",
            "olá teste2\n",
            "olá teste3\n"
          ]
        }
      ]
    },
    {
      "cell_type": "code",
      "source": [
        "#função com return e parametro\n",
        "\n",
        "def divide(n1,n2):\n",
        " return n1 / n2\n",
        "\n",
        "divide(4,5)\n",
        "\n",
        "#n1 = 4 e n2 = 5"
      ],
      "metadata": {
        "colab": {
          "base_uri": "https://localhost:8080/"
        },
        "id": "rhqNwKqY9rjw",
        "outputId": "074b6c49-bf47-4136-d47f-5fc7f81eb88e"
      },
      "execution_count": 33,
      "outputs": [
        {
          "output_type": "execute_result",
          "data": {
            "text/plain": [
              "0.8"
            ]
          },
          "metadata": {},
          "execution_count": 33
        }
      ]
    }
  ],
  "metadata": {
    "colab": {
      "provenance": [],
      "authorship_tag": "ABX9TyN4VSrpvwcxoTOHbT/mAu1x",
      "include_colab_link": true
    },
    "kernelspec": {
      "display_name": "Python 3",
      "name": "python3"
    },
    "language_info": {
      "name": "python"
    }
  },
  "nbformat": 4,
  "nbformat_minor": 0
}